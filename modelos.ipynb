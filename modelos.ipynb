{
 "cells": [
  {
   "cell_type": "code",
   "execution_count": 1,
   "metadata": {},
   "outputs": [],
   "source": [
    "import pandas as pd\n",
    "import numpy as np\n",
    "import random\n",
    "\n",
    "from sklearn import linear_model\n",
    "from sklearn.metrics import mean_squared_error, r2_score\n",
    "\n",
    "%matplotlib inline"
   ]
  },
  {
   "cell_type": "code",
   "execution_count": 2,
   "metadata": {},
   "outputs": [],
   "source": [
    "def create_linear_model(x, y):\n",
    "    model = linear_model.LinearRegression()\n",
    "    model.fit(x, y)\n",
    "    print('Coef:', model.coef_)\n",
    "    print('Intercept:', model.intercept_)\n",
    "    print('r2:', r2_score(y, model.predict(x)))\n",
    "    return model"
   ]
  },
  {
   "cell_type": "code",
   "execution_count": 3,
   "metadata": {},
   "outputs": [],
   "source": [
    "df = pd.read_csv('INPI.csv', sep=';', decimal=',')"
   ]
  },
  {
   "cell_type": "code",
   "execution_count": 4,
   "metadata": {},
   "outputs": [
    {
     "data": {
      "text/html": [
       "<div>\n",
       "<style scoped>\n",
       "    .dataframe tbody tr th:only-of-type {\n",
       "        vertical-align: middle;\n",
       "    }\n",
       "\n",
       "    .dataframe tbody tr th {\n",
       "        vertical-align: top;\n",
       "    }\n",
       "\n",
       "    .dataframe thead th {\n",
       "        text-align: right;\n",
       "    }\n",
       "</style>\n",
       "<table border=\"1\" class=\"dataframe\">\n",
       "  <thead>\n",
       "    <tr style=\"text-align: right;\">\n",
       "      <th></th>\n",
       "      <th>ANO</th>\n",
       "      <th>MES</th>\n",
       "      <th>DIA</th>\n",
       "      <th>HORA</th>\n",
       "      <th>TempAr</th>\n",
       "    </tr>\n",
       "  </thead>\n",
       "  <tbody>\n",
       "    <tr>\n",
       "      <td>0</td>\n",
       "      <td>2009</td>\n",
       "      <td>1</td>\n",
       "      <td>1</td>\n",
       "      <td>0</td>\n",
       "      <td>26.5</td>\n",
       "    </tr>\n",
       "    <tr>\n",
       "      <td>1</td>\n",
       "      <td>2009</td>\n",
       "      <td>1</td>\n",
       "      <td>1</td>\n",
       "      <td>300</td>\n",
       "      <td>26.0</td>\n",
       "    </tr>\n",
       "    <tr>\n",
       "      <td>2</td>\n",
       "      <td>2009</td>\n",
       "      <td>1</td>\n",
       "      <td>1</td>\n",
       "      <td>600</td>\n",
       "      <td>25.5</td>\n",
       "    </tr>\n",
       "    <tr>\n",
       "      <td>3</td>\n",
       "      <td>2009</td>\n",
       "      <td>1</td>\n",
       "      <td>1</td>\n",
       "      <td>900</td>\n",
       "      <td>24.5</td>\n",
       "    </tr>\n",
       "    <tr>\n",
       "      <td>4</td>\n",
       "      <td>2009</td>\n",
       "      <td>1</td>\n",
       "      <td>1</td>\n",
       "      <td>1200</td>\n",
       "      <td>28.0</td>\n",
       "    </tr>\n",
       "  </tbody>\n",
       "</table>\n",
       "</div>"
      ],
      "text/plain": [
       "    ANO  MES  DIA  HORA  TempAr\n",
       "0  2009    1    1     0    26.5\n",
       "1  2009    1    1   300    26.0\n",
       "2  2009    1    1   600    25.5\n",
       "3  2009    1    1   900    24.5\n",
       "4  2009    1    1  1200    28.0"
      ]
     },
     "execution_count": 4,
     "metadata": {},
     "output_type": "execute_result"
    }
   ],
   "source": [
    "df.head()"
   ]
  },
  {
   "cell_type": "code",
   "execution_count": 5,
   "metadata": {},
   "outputs": [],
   "source": [
    "def create_plus_3_minus_3_features(df, columns='TempAr'):\n",
    "    for i in range(1,4):\n",
    "        t_menos_1 = 'temp_t_{}'.format(i)\n",
    "        df[t_menos_1] = df[columns].shift(i)\n",
    "        t_mais_1 = 'temp_tm{}'.format(i)\n",
    "        df[t_mais_1] = df[columns].shift(-i)"
   ]
  },
  {
   "cell_type": "code",
   "execution_count": 6,
   "metadata": {},
   "outputs": [],
   "source": [
    "def create_month_hour_features(df, columns='HORA'):\n",
    "    for i in range(3,22,3):\n",
    "        desc_h = 'h{}'.format(i*100)\n",
    "        df[desc_h] = df[columns].apply(lambda x: 1 if x == i*100 else 0)\n",
    "    for i in range(1,12):\n",
    "        desc_m = 'm{}'.format(i)\n",
    "        df[desc_m] = df.MES.apply(lambda x: 1 if x == i else 0)"
   ]
  },
  {
   "cell_type": "code",
   "execution_count": 7,
   "metadata": {},
   "outputs": [
    {
     "data": {
      "text/html": [
       "<div>\n",
       "<style scoped>\n",
       "    .dataframe tbody tr th:only-of-type {\n",
       "        vertical-align: middle;\n",
       "    }\n",
       "\n",
       "    .dataframe tbody tr th {\n",
       "        vertical-align: top;\n",
       "    }\n",
       "\n",
       "    .dataframe thead th {\n",
       "        text-align: right;\n",
       "    }\n",
       "</style>\n",
       "<table border=\"1\" class=\"dataframe\">\n",
       "  <thead>\n",
       "    <tr style=\"text-align: right;\">\n",
       "      <th></th>\n",
       "      <th>ANO</th>\n",
       "      <th>MES</th>\n",
       "      <th>DIA</th>\n",
       "      <th>HORA</th>\n",
       "      <th>TempAr</th>\n",
       "      <th>temp_t_1</th>\n",
       "      <th>temp_tm1</th>\n",
       "      <th>temp_t_2</th>\n",
       "      <th>temp_tm2</th>\n",
       "      <th>temp_t_3</th>\n",
       "      <th>...</th>\n",
       "      <th>m2</th>\n",
       "      <th>m3</th>\n",
       "      <th>m4</th>\n",
       "      <th>m5</th>\n",
       "      <th>m6</th>\n",
       "      <th>m7</th>\n",
       "      <th>m8</th>\n",
       "      <th>m9</th>\n",
       "      <th>m10</th>\n",
       "      <th>m11</th>\n",
       "    </tr>\n",
       "  </thead>\n",
       "  <tbody>\n",
       "    <tr>\n",
       "      <td>0</td>\n",
       "      <td>2009</td>\n",
       "      <td>1</td>\n",
       "      <td>1</td>\n",
       "      <td>0</td>\n",
       "      <td>26.5</td>\n",
       "      <td>NaN</td>\n",
       "      <td>26.0</td>\n",
       "      <td>NaN</td>\n",
       "      <td>25.5</td>\n",
       "      <td>NaN</td>\n",
       "      <td>...</td>\n",
       "      <td>0</td>\n",
       "      <td>0</td>\n",
       "      <td>0</td>\n",
       "      <td>0</td>\n",
       "      <td>0</td>\n",
       "      <td>0</td>\n",
       "      <td>0</td>\n",
       "      <td>0</td>\n",
       "      <td>0</td>\n",
       "      <td>0</td>\n",
       "    </tr>\n",
       "    <tr>\n",
       "      <td>1</td>\n",
       "      <td>2009</td>\n",
       "      <td>1</td>\n",
       "      <td>1</td>\n",
       "      <td>300</td>\n",
       "      <td>26.0</td>\n",
       "      <td>26.5</td>\n",
       "      <td>25.5</td>\n",
       "      <td>NaN</td>\n",
       "      <td>24.5</td>\n",
       "      <td>NaN</td>\n",
       "      <td>...</td>\n",
       "      <td>0</td>\n",
       "      <td>0</td>\n",
       "      <td>0</td>\n",
       "      <td>0</td>\n",
       "      <td>0</td>\n",
       "      <td>0</td>\n",
       "      <td>0</td>\n",
       "      <td>0</td>\n",
       "      <td>0</td>\n",
       "      <td>0</td>\n",
       "    </tr>\n",
       "    <tr>\n",
       "      <td>2</td>\n",
       "      <td>2009</td>\n",
       "      <td>1</td>\n",
       "      <td>1</td>\n",
       "      <td>600</td>\n",
       "      <td>25.5</td>\n",
       "      <td>26.0</td>\n",
       "      <td>24.5</td>\n",
       "      <td>26.5</td>\n",
       "      <td>28.0</td>\n",
       "      <td>NaN</td>\n",
       "      <td>...</td>\n",
       "      <td>0</td>\n",
       "      <td>0</td>\n",
       "      <td>0</td>\n",
       "      <td>0</td>\n",
       "      <td>0</td>\n",
       "      <td>0</td>\n",
       "      <td>0</td>\n",
       "      <td>0</td>\n",
       "      <td>0</td>\n",
       "      <td>0</td>\n",
       "    </tr>\n",
       "    <tr>\n",
       "      <td>3</td>\n",
       "      <td>2009</td>\n",
       "      <td>1</td>\n",
       "      <td>1</td>\n",
       "      <td>900</td>\n",
       "      <td>24.5</td>\n",
       "      <td>25.5</td>\n",
       "      <td>28.0</td>\n",
       "      <td>26.0</td>\n",
       "      <td>30.0</td>\n",
       "      <td>26.5</td>\n",
       "      <td>...</td>\n",
       "      <td>0</td>\n",
       "      <td>0</td>\n",
       "      <td>0</td>\n",
       "      <td>0</td>\n",
       "      <td>0</td>\n",
       "      <td>0</td>\n",
       "      <td>0</td>\n",
       "      <td>0</td>\n",
       "      <td>0</td>\n",
       "      <td>0</td>\n",
       "    </tr>\n",
       "    <tr>\n",
       "      <td>4</td>\n",
       "      <td>2009</td>\n",
       "      <td>1</td>\n",
       "      <td>1</td>\n",
       "      <td>1200</td>\n",
       "      <td>28.0</td>\n",
       "      <td>24.5</td>\n",
       "      <td>30.0</td>\n",
       "      <td>25.5</td>\n",
       "      <td>33.5</td>\n",
       "      <td>26.0</td>\n",
       "      <td>...</td>\n",
       "      <td>0</td>\n",
       "      <td>0</td>\n",
       "      <td>0</td>\n",
       "      <td>0</td>\n",
       "      <td>0</td>\n",
       "      <td>0</td>\n",
       "      <td>0</td>\n",
       "      <td>0</td>\n",
       "      <td>0</td>\n",
       "      <td>0</td>\n",
       "    </tr>\n",
       "  </tbody>\n",
       "</table>\n",
       "<p>5 rows × 29 columns</p>\n",
       "</div>"
      ],
      "text/plain": [
       "    ANO  MES  DIA  HORA  TempAr  temp_t_1  temp_tm1  temp_t_2  temp_tm2  \\\n",
       "0  2009    1    1     0    26.5       NaN      26.0       NaN      25.5   \n",
       "1  2009    1    1   300    26.0      26.5      25.5       NaN      24.5   \n",
       "2  2009    1    1   600    25.5      26.0      24.5      26.5      28.0   \n",
       "3  2009    1    1   900    24.5      25.5      28.0      26.0      30.0   \n",
       "4  2009    1    1  1200    28.0      24.5      30.0      25.5      33.5   \n",
       "\n",
       "   temp_t_3  ...  m2  m3  m4  m5  m6  m7  m8  m9  m10  m11  \n",
       "0       NaN  ...   0   0   0   0   0   0   0   0    0    0  \n",
       "1       NaN  ...   0   0   0   0   0   0   0   0    0    0  \n",
       "2       NaN  ...   0   0   0   0   0   0   0   0    0    0  \n",
       "3      26.5  ...   0   0   0   0   0   0   0   0    0    0  \n",
       "4      26.0  ...   0   0   0   0   0   0   0   0    0    0  \n",
       "\n",
       "[5 rows x 29 columns]"
      ]
     },
     "execution_count": 7,
     "metadata": {},
     "output_type": "execute_result"
    }
   ],
   "source": [
    "create_plus_3_minus_3_features(df)\n",
    "create_month_hour_features(df)\n",
    "df.head()"
   ]
  },
  {
   "cell_type": "code",
   "execution_count": 8,
   "metadata": {},
   "outputs": [],
   "source": [
    "df_clean = df.dropna()"
   ]
  },
  {
   "cell_type": "code",
   "execution_count": 9,
   "metadata": {},
   "outputs": [
    {
     "data": {
      "text/plain": [
       "Index(['temp_t_1', 'temp_tm1', 'temp_t_2', 'temp_tm2', 'temp_t_3', 'temp_tm3',\n",
       "       'h300', 'h600', 'h900', 'h1200', 'h1500', 'h1800', 'h2100', 'm1', 'm2',\n",
       "       'm3', 'm4', 'm5', 'm6', 'm7', 'm8', 'm9', 'm10', 'm11'],\n",
       "      dtype='object')"
      ]
     },
     "execution_count": 9,
     "metadata": {},
     "output_type": "execute_result"
    }
   ],
   "source": [
    "features_col = df_clean.columns[5:]\n",
    "features_col"
   ]
  },
  {
   "cell_type": "code",
   "execution_count": 10,
   "metadata": {},
   "outputs": [],
   "source": [
    "x = df_clean[features_col].values"
   ]
  },
  {
   "cell_type": "code",
   "execution_count": 11,
   "metadata": {},
   "outputs": [],
   "source": [
    "y = df_clean.TempAr.values.reshape(-1,1)"
   ]
  },
  {
   "cell_type": "code",
   "execution_count": 12,
   "metadata": {},
   "outputs": [
    {
     "name": "stdout",
     "output_type": "stream",
     "text": [
      "Coef: [[ 0.4239627   0.42548433  0.01394948 -0.00756265 -0.00674852 -0.00647283\n",
      "   2.56432431  2.32529206  1.60977293  1.36144786  4.65997421  5.06012275\n",
      "   5.53154187  0.12680418  0.06720489  0.01427058  0.03094921 -0.09795508\n",
      "  -0.58584962 -0.35924795 -0.05948228  0.10192722  0.29717947  0.21543466]]\n",
      "Intercept: [1.23305537]\n",
      "r2: 0.7924057732761738\n"
     ]
    }
   ],
   "source": [
    "model_a = create_linear_model(x, y)"
   ]
  },
  {
   "cell_type": "code",
   "execution_count": 13,
   "metadata": {},
   "outputs": [
    {
     "name": "stderr",
     "output_type": "stream",
     "text": [
      "C:\\Users\\guilh\\Anaconda3\\lib\\site-packages\\ipykernel_launcher.py:2: SettingWithCopyWarning: \n",
      "A value is trying to be set on a copy of a slice from a DataFrame.\n",
      "Try using .loc[row_indexer,col_indexer] = value instead\n",
      "\n",
      "See the caveats in the documentation: http://pandas.pydata.org/pandas-docs/stable/user_guide/indexing.html#returning-a-view-versus-a-copy\n",
      "  \n"
     ]
    }
   ],
   "source": [
    "erro = y - model_a.predict(x)\n",
    "df_clean['e'] = erro"
   ]
  },
  {
   "cell_type": "code",
   "execution_count": 14,
   "metadata": {},
   "outputs": [],
   "source": [
    "def create_error_feature(df):\n",
    "    for i in range(1,2):\n",
    "        e_menos_1 = 'e_{}'.format(i)\n",
    "        df[e_menos_1] = df.e.shift(i)\n",
    "        e_mais_1 = 'em{}'.format(i)\n",
    "        df[e_mais_1] = df.e.shift(-i)"
   ]
  },
  {
   "cell_type": "code",
   "execution_count": 15,
   "metadata": {},
   "outputs": [
    {
     "name": "stderr",
     "output_type": "stream",
     "text": [
      "C:\\Users\\guilh\\Anaconda3\\lib\\site-packages\\ipykernel_launcher.py:4: SettingWithCopyWarning: \n",
      "A value is trying to be set on a copy of a slice from a DataFrame.\n",
      "Try using .loc[row_indexer,col_indexer] = value instead\n",
      "\n",
      "See the caveats in the documentation: http://pandas.pydata.org/pandas-docs/stable/user_guide/indexing.html#returning-a-view-versus-a-copy\n",
      "  after removing the cwd from sys.path.\n",
      "C:\\Users\\guilh\\Anaconda3\\lib\\site-packages\\ipykernel_launcher.py:6: SettingWithCopyWarning: \n",
      "A value is trying to be set on a copy of a slice from a DataFrame.\n",
      "Try using .loc[row_indexer,col_indexer] = value instead\n",
      "\n",
      "See the caveats in the documentation: http://pandas.pydata.org/pandas-docs/stable/user_guide/indexing.html#returning-a-view-versus-a-copy\n",
      "  \n"
     ]
    }
   ],
   "source": [
    "create_error_feature(df_clean)\n",
    "df_clean = df_clean.dropna()"
   ]
  },
  {
   "cell_type": "code",
   "execution_count": 16,
   "metadata": {},
   "outputs": [
    {
     "data": {
      "text/html": [
       "<div>\n",
       "<style scoped>\n",
       "    .dataframe tbody tr th:only-of-type {\n",
       "        vertical-align: middle;\n",
       "    }\n",
       "\n",
       "    .dataframe tbody tr th {\n",
       "        vertical-align: top;\n",
       "    }\n",
       "\n",
       "    .dataframe thead th {\n",
       "        text-align: right;\n",
       "    }\n",
       "</style>\n",
       "<table border=\"1\" class=\"dataframe\">\n",
       "  <thead>\n",
       "    <tr style=\"text-align: right;\">\n",
       "      <th></th>\n",
       "      <th>ANO</th>\n",
       "      <th>MES</th>\n",
       "      <th>DIA</th>\n",
       "      <th>HORA</th>\n",
       "      <th>TempAr</th>\n",
       "      <th>temp_t_1</th>\n",
       "      <th>temp_tm1</th>\n",
       "      <th>temp_t_2</th>\n",
       "      <th>temp_tm2</th>\n",
       "      <th>temp_t_3</th>\n",
       "      <th>...</th>\n",
       "      <th>m4</th>\n",
       "      <th>m5</th>\n",
       "      <th>m6</th>\n",
       "      <th>m7</th>\n",
       "      <th>m8</th>\n",
       "      <th>m9</th>\n",
       "      <th>m10</th>\n",
       "      <th>m11</th>\n",
       "      <th>e_1</th>\n",
       "      <th>em1</th>\n",
       "    </tr>\n",
       "  </thead>\n",
       "  <tbody>\n",
       "    <tr>\n",
       "      <td>4</td>\n",
       "      <td>2009</td>\n",
       "      <td>1</td>\n",
       "      <td>1</td>\n",
       "      <td>1200</td>\n",
       "      <td>28.0</td>\n",
       "      <td>24.5</td>\n",
       "      <td>30.0</td>\n",
       "      <td>25.5</td>\n",
       "      <td>33.5</td>\n",
       "      <td>26.0</td>\n",
       "      <td>...</td>\n",
       "      <td>0</td>\n",
       "      <td>0</td>\n",
       "      <td>0</td>\n",
       "      <td>0</td>\n",
       "      <td>0</td>\n",
       "      <td>0</td>\n",
       "      <td>0</td>\n",
       "      <td>0</td>\n",
       "      <td>-0.934374</td>\n",
       "      <td>-1.877967</td>\n",
       "    </tr>\n",
       "    <tr>\n",
       "      <td>5</td>\n",
       "      <td>2009</td>\n",
       "      <td>1</td>\n",
       "      <td>1</td>\n",
       "      <td>1500</td>\n",
       "      <td>30.0</td>\n",
       "      <td>28.0</td>\n",
       "      <td>33.5</td>\n",
       "      <td>24.5</td>\n",
       "      <td>35.0</td>\n",
       "      <td>25.5</td>\n",
       "      <td>...</td>\n",
       "      <td>0</td>\n",
       "      <td>0</td>\n",
       "      <td>0</td>\n",
       "      <td>0</td>\n",
       "      <td>0</td>\n",
       "      <td>0</td>\n",
       "      <td>0</td>\n",
       "      <td>0</td>\n",
       "      <td>2.426724</td>\n",
       "      <td>-0.380885</td>\n",
       "    </tr>\n",
       "    <tr>\n",
       "      <td>6</td>\n",
       "      <td>2009</td>\n",
       "      <td>1</td>\n",
       "      <td>1</td>\n",
       "      <td>1800</td>\n",
       "      <td>33.5</td>\n",
       "      <td>30.0</td>\n",
       "      <td>35.0</td>\n",
       "      <td>28.0</td>\n",
       "      <td>26.5</td>\n",
       "      <td>24.5</td>\n",
       "      <td>...</td>\n",
       "      <td>0</td>\n",
       "      <td>0</td>\n",
       "      <td>0</td>\n",
       "      <td>0</td>\n",
       "      <td>0</td>\n",
       "      <td>0</td>\n",
       "      <td>0</td>\n",
       "      <td>0</td>\n",
       "      <td>-1.877967</td>\n",
       "      <td>2.770236</td>\n",
       "    </tr>\n",
       "    <tr>\n",
       "      <td>7</td>\n",
       "      <td>2009</td>\n",
       "      <td>1</td>\n",
       "      <td>1</td>\n",
       "      <td>2100</td>\n",
       "      <td>35.0</td>\n",
       "      <td>33.5</td>\n",
       "      <td>26.5</td>\n",
       "      <td>30.0</td>\n",
       "      <td>27.0</td>\n",
       "      <td>28.0</td>\n",
       "      <td>...</td>\n",
       "      <td>0</td>\n",
       "      <td>0</td>\n",
       "      <td>0</td>\n",
       "      <td>0</td>\n",
       "      <td>0</td>\n",
       "      <td>0</td>\n",
       "      <td>0</td>\n",
       "      <td>0</td>\n",
       "      <td>-0.380885</td>\n",
       "      <td>-1.096815</td>\n",
       "    </tr>\n",
       "    <tr>\n",
       "      <td>8</td>\n",
       "      <td>2009</td>\n",
       "      <td>1</td>\n",
       "      <td>2</td>\n",
       "      <td>0</td>\n",
       "      <td>26.5</td>\n",
       "      <td>35.0</td>\n",
       "      <td>27.0</td>\n",
       "      <td>33.5</td>\n",
       "      <td>25.5</td>\n",
       "      <td>30.0</td>\n",
       "      <td>...</td>\n",
       "      <td>0</td>\n",
       "      <td>0</td>\n",
       "      <td>0</td>\n",
       "      <td>0</td>\n",
       "      <td>0</td>\n",
       "      <td>0</td>\n",
       "      <td>0</td>\n",
       "      <td>0</td>\n",
       "      <td>2.770236</td>\n",
       "      <td>1.108812</td>\n",
       "    </tr>\n",
       "  </tbody>\n",
       "</table>\n",
       "<p>5 rows × 31 columns</p>\n",
       "</div>"
      ],
      "text/plain": [
       "    ANO  MES  DIA  HORA  TempAr  temp_t_1  temp_tm1  temp_t_2  temp_tm2  \\\n",
       "4  2009    1    1  1200    28.0      24.5      30.0      25.5      33.5   \n",
       "5  2009    1    1  1500    30.0      28.0      33.5      24.5      35.0   \n",
       "6  2009    1    1  1800    33.5      30.0      35.0      28.0      26.5   \n",
       "7  2009    1    1  2100    35.0      33.5      26.5      30.0      27.0   \n",
       "8  2009    1    2     0    26.5      35.0      27.0      33.5      25.5   \n",
       "\n",
       "   temp_t_3  ...  m4  m5  m6  m7  m8  m9  m10  m11       e_1       em1  \n",
       "4      26.0  ...   0   0   0   0   0   0    0    0 -0.934374 -1.877967  \n",
       "5      25.5  ...   0   0   0   0   0   0    0    0  2.426724 -0.380885  \n",
       "6      24.5  ...   0   0   0   0   0   0    0    0 -1.877967  2.770236  \n",
       "7      28.0  ...   0   0   0   0   0   0    0    0 -0.380885 -1.096815  \n",
       "8      30.0  ...   0   0   0   0   0   0    0    0  2.770236  1.108812  \n",
       "\n",
       "[5 rows x 31 columns]"
      ]
     },
     "execution_count": 16,
     "metadata": {},
     "output_type": "execute_result"
    }
   ],
   "source": [
    "df_clean.drop(columns='e', inplace=True)\n",
    "df_clean.head()"
   ]
  },
  {
   "cell_type": "code",
   "execution_count": 17,
   "metadata": {},
   "outputs": [
    {
     "data": {
      "text/plain": [
       "Index(['temp_t_1', 'temp_tm1', 'temp_t_2', 'temp_tm2', 'temp_t_3', 'temp_tm3',\n",
       "       'h300', 'h600', 'h900', 'h1200', 'h1500', 'h1800', 'h2100', 'm1', 'm2',\n",
       "       'm3', 'm4', 'm5', 'm6', 'm7', 'm8', 'm9', 'm10', 'm11', 'e_1', 'em1'],\n",
       "      dtype='object')"
      ]
     },
     "execution_count": 17,
     "metadata": {},
     "output_type": "execute_result"
    }
   ],
   "source": [
    "features_col = df_clean.columns[5:]\n",
    "features_col"
   ]
  },
  {
   "cell_type": "code",
   "execution_count": 18,
   "metadata": {},
   "outputs": [],
   "source": [
    "x1 = df_clean[features_col].values\n",
    "y1 = df_clean.TempAr.values.reshape(-1,1)"
   ]
  },
  {
   "cell_type": "markdown",
   "metadata": {},
   "source": [
    "**Modelo: T(+1,+2,3,-1,-2,-3)e(+1,-1)**"
   ]
  },
  {
   "cell_type": "code",
   "execution_count": 19,
   "metadata": {},
   "outputs": [
    {
     "name": "stdout",
     "output_type": "stream",
     "text": [
      "Coef: [[ 1.17233939e+00  1.07167509e+00 -4.99166815e-01 -4.57956603e-01\n",
      "   1.14811986e-03  2.74559791e-02  3.15389305e+00  2.65756295e+00\n",
      "   4.67208613e+00 -1.35207032e+00  1.62662066e+00 -3.62628062e+00\n",
      "   7.46502381e-01 -2.83205625e-01 -1.30825959e-01 -2.51142181e-02\n",
      "  -3.44485532e-02  1.85153973e-01  1.19585092e+00  5.83327512e-01\n",
      "   6.47707450e-02 -2.09924449e-01 -5.94190966e-01 -4.26435852e-01\n",
      "  -1.17775325e+00 -1.06750803e+00]]\n",
      "Intercept: [-9.25177253]\n",
      "r2: 0.9795167201258269\n"
     ]
    }
   ],
   "source": [
    "model_b = create_linear_model(x1,y1)"
   ]
  },
  {
   "cell_type": "code",
   "execution_count": 20,
   "metadata": {},
   "outputs": [],
   "source": [
    "def create_model(df, columns):\n",
    "    x = df[columns].values\n",
    "    y = df.TempAr.values.reshape(-1,1)\n",
    "    return create_linear_model(x, y)"
   ]
  },
  {
   "cell_type": "markdown",
   "metadata": {},
   "source": [
    "**Modelo: T(+1, +2,-1,-2,-3) e(+1,-1)**"
   ]
  },
  {
   "cell_type": "code",
   "execution_count": 21,
   "metadata": {},
   "outputs": [
    {
     "name": "stdout",
     "output_type": "stream",
     "text": [
      "Coef: [[ 1.18359154e+00  1.05813662e+00 -5.03339512e-01 -4.36052446e-01\n",
      "   4.33027166e-03  3.26821800e+00  2.84322596e+00  4.75256813e+00\n",
      "  -1.25683184e+00  1.60564452e+00 -3.61060640e+00  7.43295961e-01\n",
      "  -2.72165291e-01 -1.25268730e-01 -2.35270030e-02 -3.16536290e-02\n",
      "   1.77563494e-01  1.16732181e+00  5.67280954e-01  5.88739261e-02\n",
      "  -2.02886851e-01 -5.75637614e-01 -4.12623408e-01 -1.18760856e+00\n",
      "  -1.05424427e+00]]\n",
      "Intercept: [-9.08058007]\n",
      "r2: 0.9792861331125733\n"
     ]
    }
   ],
   "source": [
    "features_col_c = [col for col in features_col if col not in ['temp_tm3']]\n",
    "model_c = create_model(df_clean, features_col_c)"
   ]
  },
  {
   "cell_type": "markdown",
   "metadata": {},
   "source": [
    "**Modelo: T(+1,-1,-2,-3) e(+1,-1)**"
   ]
  },
  {
   "cell_type": "code",
   "execution_count": 22,
   "metadata": {},
   "outputs": [
    {
     "name": "stdout",
     "output_type": "stream",
     "text": [
      "Coef: [[ 1.78501019e+00  2.91963755e-01 -7.62095590e-01  8.27736908e-04\n",
      "   3.85083500e+00  5.05723842e+00  7.77322282e+00  2.33773845e+00\n",
      "   7.74534295e-01 -1.14551956e+00  5.30626783e+00 -2.84140500e-01\n",
      "  -1.34508020e-01 -2.46501060e-02 -5.48132788e-02  1.87788402e-01\n",
      "   1.18370415e+00  6.38366369e-01  6.38021269e-02 -2.41322577e-01\n",
      "  -5.94748960e-01 -4.28822220e-01 -1.78016899e+00 -2.79227766e-01]]\n",
      "Intercept: [-11.26440355]\n",
      "r2: 0.9636606492758943\n"
     ]
    }
   ],
   "source": [
    "features_col_c = [col for col in features_col if col not in ['temp_tm3', 'temp_tm2']]\n",
    "model_d = create_model(df_clean, features_col_c)"
   ]
  },
  {
   "cell_type": "markdown",
   "metadata": {},
   "source": [
    "**Modelo: T(+1, -1,-2,-3) e(-1)**"
   ]
  },
  {
   "cell_type": "code",
   "execution_count": 23,
   "metadata": {},
   "outputs": [
    {
     "name": "stdout",
     "output_type": "stream",
     "text": [
      "Coef: [[ 1.99496957  0.10899807 -0.84861127  0.00970545  5.00632301  6.11698222\n",
      "   8.9600348   4.2182304   0.37966986 -0.75069698  7.06559101 -0.22545756\n",
      "  -0.10938157 -0.01864733 -0.04818042  0.14519691  1.0074665   0.56201241\n",
      "   0.02291646 -0.21548694 -0.49722359 -0.35663923 -1.98786959]]\n",
      "Intercept: [-10.82169763]\n",
      "r2: 0.9580958839513823\n"
     ]
    }
   ],
   "source": [
    "features_col_c = [col for col in features_col if col not in ['temp_tm3', 'temp_tm2', 'em1']]\n",
    "model_e = create_model(df_clean, features_col_c)"
   ]
  },
  {
   "cell_type": "markdown",
   "metadata": {},
   "source": [
    "**Modelo: T(-1,-2,-3) e(-1)**"
   ]
  },
  {
   "cell_type": "code",
   "execution_count": 24,
   "metadata": {},
   "outputs": [
    {
     "name": "stdout",
     "output_type": "stream",
     "text": [
      "Coef: [[ 2.12595331e+00 -9.06938379e-01  1.93608079e-02  5.68152690e+00\n",
      "   6.72263791e+00  9.66826398e+00  5.33489605e+00  1.29873080e-01\n",
      "  -5.76600109e-01  8.09428035e+00 -1.95603099e-01 -9.36090751e-02\n",
      "  -1.57787416e-02 -4.01184847e-02  1.19695612e-01  9.22077326e-01\n",
      "   5.18781760e-01  9.22056513e-03 -2.01045778e-01 -4.47412588e-01\n",
      "  -3.17127121e-01 -2.11601469e+00]]\n",
      "Intercept: [-10.63325164]\n",
      "r2: 0.954341767074941\n"
     ]
    }
   ],
   "source": [
    "features_col_c = [col for col in features_col if col not in ['temp_tm3', 'temp_tm2', 'em1', 'temp_tm1']]\n",
    "model_f = create_model(df_clean, features_col_c)"
   ]
  },
  {
   "cell_type": "markdown",
   "metadata": {},
   "source": [
    "**Modelo: T(+1, +2,+3,-1,-2,) e(+1,-1)**"
   ]
  },
  {
   "cell_type": "code",
   "execution_count": 25,
   "metadata": {},
   "outputs": [
    {
     "name": "stdout",
     "output_type": "stream",
     "text": [
      "Coef: [[ 1.17212323  1.0718757  -0.49842395 -0.45802647  0.0275854   3.15021121\n",
      "   2.65986027  4.6734218  -1.35760573  1.62253479 -3.62959351  0.74170286\n",
      "  -0.28283646 -0.1306919  -0.02505572 -0.03449029  0.18492147  1.1944007\n",
      "   0.58242475  0.06455263 -0.20967607 -0.59364985 -0.42590261 -1.17756428\n",
      "  -1.06766337]]\n",
      "Intercept: [-9.24007535]\n",
      "r2: 0.979516327970856\n"
     ]
    }
   ],
   "source": [
    "features_col_c = [col for col in features_col if col not in ['temp_t_3']]\n",
    "model_g = create_model(df_clean, features_col_c)"
   ]
  },
  {
   "cell_type": "markdown",
   "metadata": {},
   "source": [
    "**Modelo: T(+1, +2,+3,-1,) e(+1,-1) **"
   ]
  },
  {
   "cell_type": "code",
   "execution_count": 26,
   "metadata": {},
   "outputs": [
    {
     "name": "stdout",
     "output_type": "stream",
     "text": [
      "Coef: [[ 0.30245248  1.71196469 -0.73835747  0.03701152  2.35120339  0.43003397\n",
      "   0.54816768 -4.47568941  3.51884462 -3.38472991 -2.66234007 -0.30311404\n",
      "  -0.13295083 -0.0360171  -0.01649147  0.19006063  1.18713354  0.531881\n",
      "   0.09631595 -0.1853193  -0.581638   -0.43503153 -0.3086326  -1.70888871]]\n",
      "Intercept: [-7.73815768]\n",
      "r2: 0.9608491900323092\n"
     ]
    }
   ],
   "source": [
    "features_col_c = [col for col in features_col if col not in ['temp_t_3', 'temp_t_2']]\n",
    "model_h = create_model(df_clean, features_col_c)"
   ]
  },
  {
   "cell_type": "markdown",
   "metadata": {},
   "source": [
    "**Modelo: T(+1, +2,+3,-1) e(+1)**"
   ]
  },
  {
   "cell_type": "code",
   "execution_count": 27,
   "metadata": {},
   "outputs": [
    {
     "name": "stdout",
     "output_type": "stream",
     "text": [
      "Coef: [[ 9.48959626e-02  1.93978771e+00 -8.35532187e-01  5.18948258e-02\n",
      "   9.88941568e-01 -1.22739398e+00 -7.61510799e-01 -6.63728291e+00\n",
      "   3.79031878e+00 -4.45937099e+00 -4.78973392e+00 -2.43237138e-01\n",
      "  -1.05205026e-01 -2.32316769e-02 -3.64376902e-03  1.56920999e-01\n",
      "   9.50142406e-01  3.69621685e-01  7.95091887e-02 -1.26636947e-01\n",
      "  -4.74957477e-01 -3.41734970e-01 -1.94036118e+00]]\n",
      "Intercept: [-4.93885922]\n",
      "r2: 0.9540170739143107\n"
     ]
    }
   ],
   "source": [
    "features_col_c = [col for col in features_col if col not in ['temp_t_3', 'temp_t_2', 'e_1']]\n",
    "model_i = create_model(df_clean, features_col_c)"
   ]
  },
  {
   "cell_type": "markdown",
   "metadata": {},
   "source": [
    "**Modelo: T(+1, +2,+3) e(+1) **"
   ]
  },
  {
   "cell_type": "code",
   "execution_count": 28,
   "metadata": {},
   "outputs": [
    {
     "name": "stdout",
     "output_type": "stream",
     "text": [
      "Coef: [[ 2.05330558e+00 -8.86605496e-01  6.25870957e-02  3.41797162e-01\n",
      "  -2.01921987e+00 -1.37190093e+00 -7.67876914e+00  3.90161566e+00\n",
      "  -5.03215973e+00 -5.83720686e+00 -2.20729624e-01 -9.46509162e-02\n",
      "  -1.62412362e-02  3.68457155e-03  1.45137554e-01  8.69556244e-01\n",
      "   3.09813412e-01  7.73517890e-02 -1.03236564e-01 -4.40386234e-01\n",
      "  -3.04922841e-01 -2.05436356e+00]]\n",
      "Intercept: [-3.79641431]\n",
      "r2: 0.9513268470264369\n"
     ]
    }
   ],
   "source": [
    "features_col_c = [col for col in features_col if col not in ['temp_t_3', 'temp_t_2', 'e_1', 'temp_t_1']]\n",
    "model_j = create_model(df_clean, features_col_c)"
   ]
  },
  {
   "cell_type": "code",
   "execution_count": 29,
   "metadata": {},
   "outputs": [],
   "source": [
    "import xgboost as xgb"
   ]
  },
  {
   "cell_type": "code",
   "execution_count": 30,
   "metadata": {},
   "outputs": [],
   "source": [
    "model_xgb = xgb.XGBRegressor()"
   ]
  },
  {
   "cell_type": "code",
   "execution_count": 31,
   "metadata": {},
   "outputs": [
    {
     "data": {
      "text/plain": [
       "Index(['temp_t_1', 'temp_tm1', 'temp_t_2', 'temp_tm2', 'temp_t_3', 'temp_tm3',\n",
       "       'h300', 'h600', 'h900', 'h1200', 'h1500', 'h1800', 'h2100', 'm1', 'm2',\n",
       "       'm3', 'm4', 'm5', 'm6', 'm7', 'm8', 'm9', 'm10', 'm11'],\n",
       "      dtype='object')"
      ]
     },
     "execution_count": 31,
     "metadata": {},
     "output_type": "execute_result"
    }
   ],
   "source": [
    "df_clean2 = df.dropna()\n",
    "features_col2 = df_clean2.columns[5:]\n",
    "features_col2"
   ]
  },
  {
   "cell_type": "code",
   "execution_count": 40,
   "metadata": {},
   "outputs": [],
   "source": [
    "x = df_clean2[features_col2].values\n",
    "y = df_clean2.TempAr.values.reshape(-1,1)"
   ]
  },
  {
   "cell_type": "code",
   "execution_count": 41,
   "metadata": {},
   "outputs": [
    {
     "name": "stdout",
     "output_type": "stream",
     "text": [
      "[02:29:32] WARNING: C:/Jenkins/workspace/xgboost-win64_release_0.90/src/objective/regression_obj.cu:152: reg:linear is now deprecated in favor of reg:squarederror.\n"
     ]
    },
    {
     "data": {
      "text/plain": [
       "XGBRegressor(base_score=0.5, booster='gbtree', colsample_bylevel=1,\n",
       "             colsample_bynode=1, colsample_bytree=1, gamma=0,\n",
       "             importance_type='gain', learning_rate=0.1, max_delta_step=0,\n",
       "             max_depth=3, min_child_weight=1, missing=None, n_estimators=100,\n",
       "             n_jobs=1, nthread=None, objective='reg:linear', random_state=0,\n",
       "             reg_alpha=0, reg_lambda=1, scale_pos_weight=1, seed=None,\n",
       "             silent=None, subsample=1, verbosity=1)"
      ]
     },
     "execution_count": 41,
     "metadata": {},
     "output_type": "execute_result"
    }
   ],
   "source": [
    "model_xgb.fit(x, y)"
   ]
  },
  {
   "cell_type": "code",
   "execution_count": 42,
   "metadata": {},
   "outputs": [
    {
     "data": {
      "text/plain": [
       "0.8699708876142914"
      ]
     },
     "execution_count": 42,
     "metadata": {},
     "output_type": "execute_result"
    }
   ],
   "source": [
    "r2_score(y, model_xgb.predict(x))"
   ]
  },
  {
   "cell_type": "code",
   "execution_count": null,
   "metadata": {},
   "outputs": [],
   "source": []
  },
  {
   "cell_type": "code",
   "execution_count": null,
   "metadata": {},
   "outputs": [],
   "source": []
  }
 ],
 "metadata": {
  "kernelspec": {
   "display_name": "Python 3",
   "language": "python",
   "name": "python3"
  },
  "language_info": {
   "codemirror_mode": {
    "name": "ipython",
    "version": 3
   },
   "file_extension": ".py",
   "mimetype": "text/x-python",
   "name": "python",
   "nbconvert_exporter": "python",
   "pygments_lexer": "ipython3",
   "version": "3.7.4"
  }
 },
 "nbformat": 4,
 "nbformat_minor": 2
}
